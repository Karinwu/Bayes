{
 "cells": [
  {
   "cell_type": "markdown",
   "metadata": {},
   "source": [
    "Bayes Theorem: \n",
    "\n",
    "Overservations $X_1, X_2...Xn$ are modeld as \n",
    "$X_i \\sim f^{iid}(Xi|\\theta)$\n",
    "\n",
    "The join distributuion of the sample X_1, X_2...X_n is given by\n",
    "\n",
    "$f(x_1|\\theta)f(x_2|\\theta)...f(x_n|\\theta) = \\prod_{i=1}^{n}f(x_i|\\theta) $\n",
    "\n",
    "$\\pi(\\theta|x) = \\frac{f(x|\\theta) \\pi(\\theta)}{m(x)}$\n",
    "\n",
    "Likelihood, model $f(x|\\theta)$ \n",
    "\n",
    "Prior distribution $\\pi(\\theta)$ \n",
    "\n",
    "Joint distribution $h(x, \\theta) = f(x|\\theta)\\pi(\\theta)$\n",
    "\n",
    "Marginal distribution $m(x) = \\int_{\\Theta}f(x|\\theta)\\pi(\\theta)d\\theta$ \n",
    "\n",
    "Posterior distribution $\\pi(\\theta|x) = f(x|\\theta)\n",
    "\n"
   ]
  },
  {
   "cell_type": "code",
   "execution_count": null,
   "metadata": {},
   "outputs": [],
   "source": []
  },
  {
   "cell_type": "code",
   "execution_count": null,
   "metadata": {},
   "outputs": [],
   "source": []
  },
  {
   "cell_type": "code",
   "execution_count": null,
   "metadata": {},
   "outputs": [],
   "source": []
  }
 ],
 "metadata": {
  "kernelspec": {
   "display_name": "Python 3",
   "language": "python",
   "name": "python3"
  },
  "language_info": {
   "codemirror_mode": {
    "name": "ipython",
    "version": 3
   },
   "file_extension": ".py",
   "mimetype": "text/x-python",
   "name": "python",
   "nbconvert_exporter": "python",
   "pygments_lexer": "ipython3",
   "version": "3.7.3"
  }
 },
 "nbformat": 4,
 "nbformat_minor": 4
}
